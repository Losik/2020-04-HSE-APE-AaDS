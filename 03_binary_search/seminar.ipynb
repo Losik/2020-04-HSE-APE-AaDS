{
  "nbformat": 4,
  "nbformat_minor": 0,
  "metadata": {
    "colab": {
      "name": "aads_03_test.ipynb",
      "provenance": []
    },
    "kernelspec": {
      "name": "python3",
      "display_name": "Python 3"
    }
  },
  "cells": [
    {
      "cell_type": "code",
      "metadata": {
        "id": "sG5cUtAksfQ-",
        "colab_type": "code",
        "colab": {}
      },
      "source": [
        "def binary_search(values: list, value) -> int:\n",
        "  \"\"\"\n",
        "  Assuming values is a sorted array returns\n",
        "     -1 if value is not in values\n",
        "     x such that values[x] == value otherwise\n",
        "  \"\"\"\n",
        "\n",
        "  begin = 0 \n",
        "  end = len(values)\n",
        "\n",
        "  while begin != end: \n",
        "    mid = (begin + end) // 2\n",
        "    if values[mid] == value:\n",
        "      return mid\n",
        "    elif values[mid] > value:\n",
        "      end = mid\n",
        "    else:\n",
        "      begin = mid + 1\n",
        "      continue\n",
        "\n",
        "  return -1\n"
      ],
      "execution_count": 1,
      "outputs": []
    },
    {
      "cell_type": "code",
      "metadata": {
        "id": "5kNQnMv6vf6G",
        "colab_type": "code",
        "colab": {}
      },
      "source": [
        "from typing import Callable\n",
        "\n",
        "\n",
        "def lower_bound(values: list, func: Callable[[object], bool]) -> int:\n",
        "  \"\"\"\n",
        "  Assuming there exists such x so that:\n",
        "    func(x) is True for every value in values[:x]\n",
        "    func(x) is False for every value in values[x:]\n",
        "    1110000000\n",
        "       ^\n",
        "  returns x\n",
        "  \"\"\"\n",
        "\n",
        "  begin = 0\n",
        "  end = len(values)\n",
        "\n",
        "  while begin != end:\n",
        "    mid = (begin + end) // 2\n",
        "    if func(values[mid]):\n",
        "      begin = mid + 1\n",
        "    else:\n",
        "      end = mid\n",
        "\n",
        "  return begin\n",
        "\n",
        "\n",
        "def upper_bound(values: list, func: Callable[[object], bool]) -> int:\n",
        "  \"\"\"\n",
        "  Assuming there exists such x so that:\n",
        "    func(x) is False for every value in values[:x]\n",
        "    func(x) is True for every value in values[x:]\n",
        "    0001111111\n",
        "       ^\n",
        "  returns x\n",
        "  \"\"\"\n",
        "  return lower_bound(values, lambda x: not func(x))\n",
        "\n"
      ],
      "execution_count": 2,
      "outputs": []
    },
    {
      "cell_type": "code",
      "metadata": {
        "id": "4IwP2PbTxbw7",
        "colab_type": "code",
        "outputId": "b20587f8-56cf-4667-b94d-24b8751723d2",
        "colab": {
          "base_uri": "https://localhost:8080/",
          "height": 53
        }
      },
      "source": [
        "value = 3\n",
        "values = [0, 1, 3, 3, 3, 4, 6, 6, 9]\n",
        "lb = lower_bound(values, lambda x: x < value)\n",
        "ub = upper_bound(values, lambda x: x > value)\n",
        "print(f'values[{lb}:{ub}] = {values[lb:ub]}')\n"
      ],
      "execution_count": 3,
      "outputs": [
        {
          "output_type": "stream",
          "text": [
            "values[2:5] = [3, 3, 3]\n"
          ],
          "name": "stdout"
        }
      ]
    }
  ]
}
